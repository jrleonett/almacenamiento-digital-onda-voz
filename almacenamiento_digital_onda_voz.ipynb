{
  "nbformat": 4,
  "nbformat_minor": 0,
  "metadata": {
    "colab": {
      "provenance": [],
      "authorship_tag": "ABX9TyPQzR0i65nhQYSLH7jssP3b",
      "include_colab_link": true
    },
    "kernelspec": {
      "name": "python3",
      "display_name": "Python 3"
    },
    "language_info": {
      "name": "python"
    }
  },
  "cells": [
    {
      "cell_type": "markdown",
      "metadata": {
        "id": "view-in-github",
        "colab_type": "text"
      },
      "source": [
        "<a href=\"https://colab.research.google.com/github/jrleonett/almacenamiento-digital-onda-voz/blob/main/almacenamiento_digital_onda_voz.ipynb\" target=\"_parent\"><img src=\"https://colab.research.google.com/assets/colab-badge.svg\" alt=\"Open In Colab\"/></a>"
      ]
    },
    {
      "cell_type": "markdown",
      "source": [
        "# ¿Cómo se almacena digitalmente una onda de voz humana?\n",
        "\n",
        "Desde la optica del **cómputo forense**, el análisis de señales de audio como la voz humana, es importante para la identificación de individuos, la verificación de autenticidad y la detección de manipulaciones en archivos de audio. En este apartado hablaré acerca de como se almacena digitalmente una onda de voz, utilizando las técnicas de procesamiento de señales y herramientas de programación en Python. Además, se proporciona un ejemplo práctico para grabar, analizar y visualizar la forma de onda de un archivo de audio, con un enfoque aplicado a la investigación forense. Este ejemplo fué realizado por **José R. Leonett** para la comunidad de peritos forenses digitales de Guatemala www.forensedigital.gt."
      ],
      "metadata": {
        "id": "fjoC7lkcQTeC"
      }
    },
    {
      "cell_type": "code",
      "execution_count": null,
      "metadata": {
        "id": "afF8rVX-0OY5"
      },
      "outputs": [],
      "source": [
        "#@title Parte 1: Crear la carpeta y cargar el archivo de audio\n",
        "import os\n",
        "\n",
        "# Crear la carpeta EVIDENCIA si no existe\n",
        "carpeta_evidencia = \"EVIDENCIA\"\n",
        "if not os.path.exists(carpeta_evidencia):\n",
        "    os.makedirs(carpeta_evidencia)\n",
        "    print(f\"Carpeta '{carpeta_evidencia}' creada.\")\n",
        "else:\n",
        "    print(f\"La carpeta '{carpeta_evidencia}' ya existe.\")\n",
        "\n",
        "# Esperar a que se suba un archivo de audio\n",
        "print(f\"\\nPor favor, sube un archivo de audio (formato .wav, .mp3, etc.) a la carpeta '{carpeta_evidencia}'.\")\n",
        "input(\"Presiona Enter cuando hayas subido el archivo...\")\n",
        "\n",
        "# Buscar archivos de audio en la carpeta\n",
        "archivos_audio = [f for f in os.listdir(carpeta_evidencia) if f.endswith(('.wav', '.mp3', '.m4a', '.flac', '.ogg'))]\n",
        "\n",
        "if not archivos_audio:\n",
        "    print(\"No se encontraron archivos de audio en la carpeta.\")\n",
        "else:\n",
        "    archivo_audio = os.path.join(carpeta_evidencia, archivos_audio[0])\n",
        "    print(f\"\\nArchivo de audio seleccionado: {archivo_audio}\")"
      ]
    },
    {
      "cell_type": "code",
      "source": [
        "#@title Parte 2: Análisis y visualización de la señal de audio.\n",
        "\n",
        "import librosa\n",
        "import matplotlib.pyplot as plt\n",
        "\n",
        "# Cargar el archivo de audio\n",
        "y, sr = librosa.load(archivo_audio, sr=None)  # y: señal de audio, sr: tasa de muestreo\n",
        "\n",
        "# Calcular la duración del audio\n",
        "duracion = len(y) / sr\n",
        "print(f\"Duración del audio: {duracion:.2f} segundos\")\n",
        "\n",
        "# Mostrar la secuencia numérica de la señal de audio\n",
        "print(\"\\nSecuencia numérica de la señal de audio (primeras 20 muestras):\")\n",
        "print(y[:20])  # Muestra las primeras 20 muestras\n",
        "print()\n",
        "\n",
        "# Generar la forma de onda\n",
        "plt.figure(figsize=(10, 4))\n",
        "librosa.display.waveshow(y, sr=sr)\n",
        "plt.title(f'Forma de Onda del Audio: {archivos_audio[0]}')\n",
        "plt.xlabel('Tiempo (s)')\n",
        "plt.ylabel('Amplitud')\n",
        "plt.show()"
      ],
      "metadata": {
        "id": "fqggPk_I01oN"
      },
      "execution_count": null,
      "outputs": []
    }
  ]
}